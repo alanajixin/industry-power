{
 "cells": [
  {
   "cell_type": "code",
   "execution_count": 1,
   "id": "7b1370c4",
   "metadata": {},
   "outputs": [
    {
     "name": "stderr",
     "output_type": "stream",
     "text": [
      "C:\\ProgramData\\Anaconda3\\lib\\site-packages\\scipy\\__init__.py:138: UserWarning: A NumPy version >=1.16.5 and <1.23.0 is required for this version of SciPy (detected version 1.24.3)\n",
      "  warnings.warn(f\"A NumPy version >={np_minversion} and <{np_maxversion} is required for this version of \"\n"
     ]
    }
   ],
   "source": [
    "import numpy as np\n",
    "import pandas as pd\n",
    "import matplotlib.pyplot as plt\n",
    "import seaborn as sns"
   ]
  },
  {
   "cell_type": "code",
   "execution_count": 2,
   "id": "44170e5f",
   "metadata": {},
   "outputs": [],
   "source": [
    "train=pd.read_csv(\"C:\\\\Users\\\\Asus\\\\Downloads\\\\industrypower\\\\Dataset\\\\Training.csv\")"
   ]
  },
  {
   "cell_type": "code",
   "execution_count": 3,
   "id": "95b21a3a",
   "metadata": {},
   "outputs": [],
   "source": [
    "test=pd.read_csv(\"C:\\\\Users\\\\Asus\\\\Downloads\\\\industrypower\\\\Dataset\\\\Test.csv\")"
   ]
  },
  {
   "cell_type": "code",
   "execution_count": 4,
   "id": "92108228",
   "metadata": {},
   "outputs": [],
   "source": [
    "train.drop(['Unnamed: 0'],axis=1,inplace=True)"
   ]
  },
  {
   "cell_type": "code",
   "execution_count": 5,
   "id": "1a83f382",
   "metadata": {},
   "outputs": [
    {
     "data": {
      "text/html": [
       "<div>\n",
       "<style scoped>\n",
       "    .dataframe tbody tr th:only-of-type {\n",
       "        vertical-align: middle;\n",
       "    }\n",
       "\n",
       "    .dataframe tbody tr th {\n",
       "        vertical-align: top;\n",
       "    }\n",
       "\n",
       "    .dataframe thead th {\n",
       "        text-align: right;\n",
       "    }\n",
       "</style>\n",
       "<table border=\"1\" class=\"dataframe\">\n",
       "  <thead>\n",
       "    <tr style=\"text-align: right;\">\n",
       "      <th></th>\n",
       "      <th>date</th>\n",
       "      <th>Energy_Consumption</th>\n",
       "      <th>LaRP</th>\n",
       "      <th>LeRP</th>\n",
       "      <th>LaPF</th>\n",
       "      <th>LePF</th>\n",
       "      <th>Duty</th>\n",
       "      <th>Emissions_Air_Quality_Metric</th>\n",
       "      <th>Date</th>\n",
       "    </tr>\n",
       "  </thead>\n",
       "  <tbody>\n",
       "    <tr>\n",
       "      <th>0</th>\n",
       "      <td>1/1/2018 0:14</td>\n",
       "      <td>3.21</td>\n",
       "      <td>2.96</td>\n",
       "      <td>0.0</td>\n",
       "      <td>73.21</td>\n",
       "      <td>100.0</td>\n",
       "      <td>Low</td>\n",
       "      <td>105</td>\n",
       "      <td>1/1/2018</td>\n",
       "    </tr>\n",
       "    <tr>\n",
       "      <th>1</th>\n",
       "      <td>1/1/2018 0:30</td>\n",
       "      <td>3.95</td>\n",
       "      <td>4.46</td>\n",
       "      <td>0.0</td>\n",
       "      <td>66.78</td>\n",
       "      <td>100.0</td>\n",
       "      <td>Low</td>\n",
       "      <td>101</td>\n",
       "      <td>1/1/2018</td>\n",
       "    </tr>\n",
       "    <tr>\n",
       "      <th>2</th>\n",
       "      <td>1/1/2018 0:45</td>\n",
       "      <td>3.23</td>\n",
       "      <td>3.28</td>\n",
       "      <td>0.0</td>\n",
       "      <td>70.27</td>\n",
       "      <td>100.0</td>\n",
       "      <td>Low</td>\n",
       "      <td>94</td>\n",
       "      <td>1/1/2018</td>\n",
       "    </tr>\n",
       "    <tr>\n",
       "      <th>3</th>\n",
       "      <td>1/1/2018 0:59</td>\n",
       "      <td>3.33</td>\n",
       "      <td>3.56</td>\n",
       "      <td>0.0</td>\n",
       "      <td>68.10</td>\n",
       "      <td>100.0</td>\n",
       "      <td>Low</td>\n",
       "      <td>99</td>\n",
       "      <td>1/1/2018</td>\n",
       "    </tr>\n",
       "    <tr>\n",
       "      <th>4</th>\n",
       "      <td>1/1/2018 1:15</td>\n",
       "      <td>3.79</td>\n",
       "      <td>4.49</td>\n",
       "      <td>0.0</td>\n",
       "      <td>64.72</td>\n",
       "      <td>100.0</td>\n",
       "      <td>Low</td>\n",
       "      <td>109</td>\n",
       "      <td>1/1/2018</td>\n",
       "    </tr>\n",
       "  </tbody>\n",
       "</table>\n",
       "</div>"
      ],
      "text/plain": [
       "            date  Energy_Consumption  LaRP  LeRP   LaPF   LePF Duty  \\\n",
       "0  1/1/2018 0:14                3.21  2.96   0.0  73.21  100.0  Low   \n",
       "1  1/1/2018 0:30                3.95  4.46   0.0  66.78  100.0  Low   \n",
       "2  1/1/2018 0:45                3.23  3.28   0.0  70.27  100.0  Low   \n",
       "3  1/1/2018 0:59                3.33  3.56   0.0  68.10  100.0  Low   \n",
       "4  1/1/2018 1:15                3.79  4.49   0.0  64.72  100.0  Low   \n",
       "\n",
       "   Emissions_Air_Quality_Metric      Date  \n",
       "0                           105  1/1/2018  \n",
       "1                           101  1/1/2018  \n",
       "2                            94  1/1/2018  \n",
       "3                            99  1/1/2018  \n",
       "4                           109  1/1/2018  "
      ]
     },
     "execution_count": 5,
     "metadata": {},
     "output_type": "execute_result"
    }
   ],
   "source": [
    "train.head()"
   ]
  },
  {
   "cell_type": "code",
   "execution_count": 6,
   "id": "d6751564",
   "metadata": {},
   "outputs": [
    {
     "name": "stdout",
     "output_type": "stream",
     "text": [
      "<class 'pandas.core.frame.DataFrame'>\n",
      "RangeIndex: 32850 entries, 0 to 32849\n",
      "Data columns (total 9 columns):\n",
      " #   Column                        Non-Null Count  Dtype  \n",
      "---  ------                        --------------  -----  \n",
      " 0   date                          32850 non-null  object \n",
      " 1   Energy_Consumption            32850 non-null  float64\n",
      " 2   LaRP                          32850 non-null  float64\n",
      " 3   LeRP                          32850 non-null  float64\n",
      " 4   LaPF                          32850 non-null  float64\n",
      " 5   LePF                          32850 non-null  float64\n",
      " 6   Duty                          32850 non-null  object \n",
      " 7   Emissions_Air_Quality_Metric  32850 non-null  int64  \n",
      " 8   Date                          32850 non-null  object \n",
      "dtypes: float64(5), int64(1), object(3)\n",
      "memory usage: 2.3+ MB\n"
     ]
    }
   ],
   "source": [
    "train.info()"
   ]
  },
  {
   "cell_type": "code",
   "execution_count": 7,
   "id": "4833243f",
   "metadata": {},
   "outputs": [],
   "source": [
    "#format='%m/%d/%Y %H:%M'\n",
    "train['date'] = pd.to_datetime(train['date'])\n"
   ]
  },
  {
   "cell_type": "code",
   "execution_count": 8,
   "id": "99c78ec3",
   "metadata": {},
   "outputs": [
    {
     "data": {
      "text/html": [
       "<div>\n",
       "<style scoped>\n",
       "    .dataframe tbody tr th:only-of-type {\n",
       "        vertical-align: middle;\n",
       "    }\n",
       "\n",
       "    .dataframe tbody tr th {\n",
       "        vertical-align: top;\n",
       "    }\n",
       "\n",
       "    .dataframe thead th {\n",
       "        text-align: right;\n",
       "    }\n",
       "</style>\n",
       "<table border=\"1\" class=\"dataframe\">\n",
       "  <thead>\n",
       "    <tr style=\"text-align: right;\">\n",
       "      <th></th>\n",
       "      <th>date</th>\n",
       "      <th>Energy_Consumption</th>\n",
       "      <th>LaRP</th>\n",
       "      <th>LeRP</th>\n",
       "      <th>LaPF</th>\n",
       "      <th>LePF</th>\n",
       "      <th>Duty</th>\n",
       "      <th>Emissions_Air_Quality_Metric</th>\n",
       "      <th>Date</th>\n",
       "    </tr>\n",
       "  </thead>\n",
       "  <tbody>\n",
       "    <tr>\n",
       "      <th>0</th>\n",
       "      <td>2018-01-01 00:14:00</td>\n",
       "      <td>3.21</td>\n",
       "      <td>2.96</td>\n",
       "      <td>0.0</td>\n",
       "      <td>73.21</td>\n",
       "      <td>100.0</td>\n",
       "      <td>Low</td>\n",
       "      <td>105</td>\n",
       "      <td>1/1/2018</td>\n",
       "    </tr>\n",
       "    <tr>\n",
       "      <th>1</th>\n",
       "      <td>2018-01-01 00:30:00</td>\n",
       "      <td>3.95</td>\n",
       "      <td>4.46</td>\n",
       "      <td>0.0</td>\n",
       "      <td>66.78</td>\n",
       "      <td>100.0</td>\n",
       "      <td>Low</td>\n",
       "      <td>101</td>\n",
       "      <td>1/1/2018</td>\n",
       "    </tr>\n",
       "    <tr>\n",
       "      <th>2</th>\n",
       "      <td>2018-01-01 00:45:00</td>\n",
       "      <td>3.23</td>\n",
       "      <td>3.28</td>\n",
       "      <td>0.0</td>\n",
       "      <td>70.27</td>\n",
       "      <td>100.0</td>\n",
       "      <td>Low</td>\n",
       "      <td>94</td>\n",
       "      <td>1/1/2018</td>\n",
       "    </tr>\n",
       "    <tr>\n",
       "      <th>3</th>\n",
       "      <td>2018-01-01 00:59:00</td>\n",
       "      <td>3.33</td>\n",
       "      <td>3.56</td>\n",
       "      <td>0.0</td>\n",
       "      <td>68.10</td>\n",
       "      <td>100.0</td>\n",
       "      <td>Low</td>\n",
       "      <td>99</td>\n",
       "      <td>1/1/2018</td>\n",
       "    </tr>\n",
       "    <tr>\n",
       "      <th>4</th>\n",
       "      <td>2018-01-01 01:15:00</td>\n",
       "      <td>3.79</td>\n",
       "      <td>4.49</td>\n",
       "      <td>0.0</td>\n",
       "      <td>64.72</td>\n",
       "      <td>100.0</td>\n",
       "      <td>Low</td>\n",
       "      <td>109</td>\n",
       "      <td>1/1/2018</td>\n",
       "    </tr>\n",
       "  </tbody>\n",
       "</table>\n",
       "</div>"
      ],
      "text/plain": [
       "                 date  Energy_Consumption  LaRP  LeRP   LaPF   LePF Duty  \\\n",
       "0 2018-01-01 00:14:00                3.21  2.96   0.0  73.21  100.0  Low   \n",
       "1 2018-01-01 00:30:00                3.95  4.46   0.0  66.78  100.0  Low   \n",
       "2 2018-01-01 00:45:00                3.23  3.28   0.0  70.27  100.0  Low   \n",
       "3 2018-01-01 00:59:00                3.33  3.56   0.0  68.10  100.0  Low   \n",
       "4 2018-01-01 01:15:00                3.79  4.49   0.0  64.72  100.0  Low   \n",
       "\n",
       "   Emissions_Air_Quality_Metric      Date  \n",
       "0                           105  1/1/2018  \n",
       "1                           101  1/1/2018  \n",
       "2                            94  1/1/2018  \n",
       "3                            99  1/1/2018  \n",
       "4                           109  1/1/2018  "
      ]
     },
     "execution_count": 8,
     "metadata": {},
     "output_type": "execute_result"
    }
   ],
   "source": [
    "train.head()"
   ]
  },
  {
   "cell_type": "code",
   "execution_count": 9,
   "id": "55aa7af1",
   "metadata": {},
   "outputs": [],
   "source": [
    "numeric_columns = ['Energy_Consumption', 'LaRP', 'LeRP', 'LaPF', 'LePF', 'Emissions_Air_Quality_Metric']\n",
    "train[numeric_columns] = train[numeric_columns].apply(pd.to_numeric, errors='coerce')"
   ]
  },
  {
   "cell_type": "code",
   "execution_count": 10,
   "id": "7cafb156",
   "metadata": {},
   "outputs": [
    {
     "data": {
      "image/png": "[encoded data removed]",
      "text/plain": [
       "<Figure size 720x576 with 2 Axes>"
      ]
     },
     "metadata": {
      "needs_background": "light"
     },
     "output_type": "display_data"
    }
   ],
   "source": [
    "correlation_matrix = train[numeric_columns].corr()\n",
    "\n",
    "# Plot the heatmap\n",
    "plt.figure(figsize=(10, 8))\n",
    "sns.heatmap(correlation_matrix, annot=True, cmap='coolwarm')\n",
    "plt.title('Correlation Matrix')\n",
    "plt.show()"
   ]
  },
  {
   "cell_type": "code",
   "execution_count": 10,
   "id": "2cef6d03",
   "metadata": {},
   "outputs": [],
   "source": [
    "from sklearn.model_selection import train_test_split\n",
    "from sklearn.linear_model import LinearRegression\n",
    "from sklearn.metrics import mean_squared_error, r2_score,mean_absolute_error"
   ]
  },
  {
   "cell_type": "code",
   "execution_count": 11,
   "id": "91ef5341",
   "metadata": {},
   "outputs": [],
   "source": [
    "X = train[['LaRP', 'LeRP', 'LaPF', 'LePF', 'Duty', 'Emissions_Air_Quality_Metric']]\n",
    "y = train['Energy_Consumption']"
   ]
  },
  {
   "cell_type": "code",
   "execution_count": 12,
   "id": "e94e7392",
   "metadata": {},
   "outputs": [],
   "source": [
    "X = pd.get_dummies(X, columns=['Duty'], drop_first=True)"
   ]
  },
  {
   "cell_type": "code",
   "execution_count": 13,
   "id": "1f14c66f",
   "metadata": {},
   "outputs": [],
   "source": [
    "X_train, X_test, y_train, y_test = train_test_split(X, y, test_size=0.2, random_state=42)"
   ]
  },
  {
   "cell_type": "code",
   "execution_count": 14,
   "id": "056b3a2e",
   "metadata": {},
   "outputs": [
    {
     "name": "stdout",
     "output_type": "stream",
     "text": [
      "Mean Squared Error: 20.94683975858322\n",
      "R squared: 0.9814453137562226\n"
     ]
    }
   ],
   "source": [
    "model = LinearRegression()\n",
    "model.fit(X_train, y_train)\n",
    "\n",
    "# Make predictions\n",
    "y_pred = model.predict(X_test)\n",
    "\n",
    "# Evaluate the model\n",
    "mse = mean_squared_error(y_test, y_pred)\n",
    "r2 = r2_score(y_test, y_pred)\n",
    "\n",
    "print(f'Mean Squared Error: {mse}')\n",
    "print(f'R squared: {r2}')"
   ]
  },
  {
   "cell_type": "code",
   "execution_count": 15,
   "id": "82dbf599",
   "metadata": {},
   "outputs": [],
   "source": [
    "from sklearn.ensemble import RandomForestRegressor"
   ]
  },
  {
   "cell_type": "code",
   "execution_count": 16,
   "id": "c250b26e",
   "metadata": {},
   "outputs": [],
   "source": [
    "rfr = RandomForestRegressor()"
   ]
  },
  {
   "cell_type": "code",
   "execution_count": 31,
   "id": "0c11135e",
   "metadata": {},
   "outputs": [
    {
     "name": "stdout",
     "output_type": "stream",
     "text": [
      "Root Mean Squared Error: 0.7968188603599945\n",
      "Mean Squared Error: 0.6349202962254004\n",
      "R squared: 0.9994375883416284\n"
     ]
    }
   ],
   "source": [
    "rfr.fit(X_train, y_train)\n",
    "\n",
    "# Make predictions\n",
    "y_pred1 = rfr.predict(X_test)\n",
    "\n",
    "# Evaluate the model\n",
    "mse = mean_squared_error(y_test, y_pred1)\n",
    "r2 = r2_score(y_test, y_pred1)\n",
    "mae = mean_absolute_error(y_test, y_pred1)\n",
    "rmse = np.sqrt(mse)\n",
    "\n",
    "# Print RMSE\n",
    "print(f'Root Mean Squared Error: {rmse}')\n",
    "print(f'Mean Squared Error: {mse}')\n",
    "print(f'R squared: {r2}')\n",
    "\n"
   ]
  },
  {
   "cell_type": "code",
   "execution_count": 18,
   "id": "424a5b90",
   "metadata": {},
   "outputs": [],
   "source": [
    "from sklearn.svm import SVR, LinearSVR"
   ]
  },
  {
   "cell_type": "code",
   "execution_count": 19,
   "id": "9eb0060d",
   "metadata": {},
   "outputs": [
    {
     "name": "stdout",
     "output_type": "stream",
     "text": [
      "Mean Squared Error: 15.761678972082409\n",
      "R squared: 0.9860383231373937\n"
     ]
    }
   ],
   "source": [
    "base_model = SVR()\n",
    "base_model.fit(X_train, y_train)\n",
    "y_pred2 = base_model.predict(X_test)\n",
    "\n",
    "# Evaluate the model\n",
    "mse = mean_squared_error(y_test, y_pred2)\n",
    "r2 = r2_score(y_test, y_pred2)\n",
    "\n",
    "print(f'Mean Squared Error: {mse}')\n",
    "print(f'R squared: {r2}')"
   ]
  },
  {
   "cell_type": "code",
   "execution_count": 20,
   "id": "64462f6f",
   "metadata": {},
   "outputs": [],
   "source": [
    "from sklearn.ensemble import GradientBoostingRegressor"
   ]
  },
  {
   "cell_type": "code",
   "execution_count": 21,
   "id": "6bbda637",
   "metadata": {},
   "outputs": [],
   "source": [
    "grd = GradientBoostingRegressor()"
   ]
  },
  {
   "cell_type": "code",
   "execution_count": 23,
   "id": "81650a61",
   "metadata": {},
   "outputs": [
    {
     "name": "stdout",
     "output_type": "stream",
     "text": [
      "Mean Squared Error: 8.159168349428688\n",
      "R squared: 0.9927726181859116\n"
     ]
    }
   ],
   "source": [
    "grd.fit(X_train, y_train)\n",
    "y_pred3 = grd.predict(X_test)\n",
    "\n",
    "# Evaluate the model\n",
    "mse = mean_squared_error(y_test, y_pred3)\n",
    "r2 = r2_score(y_test, y_pred3)\n",
    "\n",
    "print(f'Mean Squared Error: {mse}')\n",
    "print(f'R squared: {r2}')"
   ]
  },
  {
   "cell_type": "code",
   "execution_count": 38,
   "id": "af89c2a5",
   "metadata": {},
   "outputs": [],
   "source": [
    "test.drop(['Unnamed: 0'],axis=1,inplace=True)"
   ]
  },
  {
   "cell_type": "code",
   "execution_count": 39,
   "id": "8798cea5",
   "metadata": {},
   "outputs": [
    {
     "data": {
      "text/html": [
       "<div>\n",
       "<style scoped>\n",
       "    .dataframe tbody tr th:only-of-type {\n",
       "        vertical-align: middle;\n",
       "    }\n",
       "\n",
       "    .dataframe tbody tr th {\n",
       "        vertical-align: top;\n",
       "    }\n",
       "\n",
       "    .dataframe thead th {\n",
       "        text-align: right;\n",
       "    }\n",
       "</style>\n",
       "<table border=\"1\" class=\"dataframe\">\n",
       "  <thead>\n",
       "    <tr style=\"text-align: right;\">\n",
       "      <th></th>\n",
       "      <th>TimeStamp</th>\n",
       "      <th>LaRP</th>\n",
       "      <th>LeRP</th>\n",
       "      <th>LaPF</th>\n",
       "      <th>LePF</th>\n",
       "      <th>Duty</th>\n",
       "      <th>Emissions_Air_Quality_Metric</th>\n",
       "    </tr>\n",
       "  </thead>\n",
       "  <tbody>\n",
       "    <tr>\n",
       "      <th>0</th>\n",
       "      <td>2018-01-01 02:45:00</td>\n",
       "      <td>4.04</td>\n",
       "      <td>0.00</td>\n",
       "      <td>65.15</td>\n",
       "      <td>100.00</td>\n",
       "      <td>Low</td>\n",
       "      <td>109</td>\n",
       "    </tr>\n",
       "    <tr>\n",
       "      <th>1</th>\n",
       "      <td>2018-01-01 09:45:00</td>\n",
       "      <td>0.00</td>\n",
       "      <td>19.22</td>\n",
       "      <td>100.00</td>\n",
       "      <td>20.00</td>\n",
       "      <td>Low</td>\n",
       "      <td>104</td>\n",
       "    </tr>\n",
       "    <tr>\n",
       "      <th>2</th>\n",
       "      <td>2018-01-01 11:15:00</td>\n",
       "      <td>0.00</td>\n",
       "      <td>5.66</td>\n",
       "      <td>100.00</td>\n",
       "      <td>52.55</td>\n",
       "      <td>Low</td>\n",
       "      <td>100</td>\n",
       "    </tr>\n",
       "    <tr>\n",
       "      <th>3</th>\n",
       "      <td>2018-01-01 18:15:00</td>\n",
       "      <td>0.00</td>\n",
       "      <td>8.96</td>\n",
       "      <td>100.00</td>\n",
       "      <td>40.77</td>\n",
       "      <td>Low</td>\n",
       "      <td>106</td>\n",
       "    </tr>\n",
       "    <tr>\n",
       "      <th>4</th>\n",
       "      <td>2018-01-01 18:30:00</td>\n",
       "      <td>0.00</td>\n",
       "      <td>5.46</td>\n",
       "      <td>100.00</td>\n",
       "      <td>53.02</td>\n",
       "      <td>Low</td>\n",
       "      <td>104</td>\n",
       "    </tr>\n",
       "  </tbody>\n",
       "</table>\n",
       "</div>"
      ],
      "text/plain": [
       "             TimeStamp  LaRP   LeRP    LaPF    LePF Duty  \\\n",
       "0  2018-01-01 02:45:00  4.04   0.00   65.15  100.00  Low   \n",
       "1  2018-01-01 09:45:00  0.00  19.22  100.00   20.00  Low   \n",
       "2  2018-01-01 11:15:00  0.00   5.66  100.00   52.55  Low   \n",
       "3  2018-01-01 18:15:00  0.00   8.96  100.00   40.77  Low   \n",
       "4  2018-01-01 18:30:00  0.00   5.46  100.00   53.02  Low   \n",
       "\n",
       "   Emissions_Air_Quality_Metric  \n",
       "0                           109  \n",
       "1                           104  \n",
       "2                           100  \n",
       "3                           106  \n",
       "4                           104  "
      ]
     },
     "execution_count": 39,
     "metadata": {},
     "output_type": "execute_result"
    }
   ],
   "source": [
    "test.head()"
   ]
  },
  {
   "cell_type": "code",
   "execution_count": 40,
   "id": "8bc621bd",
   "metadata": {},
   "outputs": [],
   "source": [
    "test1=pd.get_dummies(test, columns=['Duty'], drop_first=True)"
   ]
  },
  {
   "cell_type": "code",
   "execution_count": 41,
   "id": "50c3ddaf",
   "metadata": {},
   "outputs": [
    {
     "data": {
      "text/html": [
       "<div>\n",
       "<style scoped>\n",
       "    .dataframe tbody tr th:only-of-type {\n",
       "        vertical-align: middle;\n",
       "    }\n",
       "\n",
       "    .dataframe tbody tr th {\n",
       "        vertical-align: top;\n",
       "    }\n",
       "\n",
       "    .dataframe thead th {\n",
       "        text-align: right;\n",
       "    }\n",
       "</style>\n",
       "<table border=\"1\" class=\"dataframe\">\n",
       "  <thead>\n",
       "    <tr style=\"text-align: right;\">\n",
       "      <th></th>\n",
       "      <th>TimeStamp</th>\n",
       "      <th>LaRP</th>\n",
       "      <th>LeRP</th>\n",
       "      <th>LaPF</th>\n",
       "      <th>LePF</th>\n",
       "      <th>Emissions_Air_Quality_Metric</th>\n",
       "      <th>Duty_Low</th>\n",
       "      <th>Duty_Major</th>\n",
       "    </tr>\n",
       "  </thead>\n",
       "  <tbody>\n",
       "    <tr>\n",
       "      <th>0</th>\n",
       "      <td>2018-01-01 02:45:00</td>\n",
       "      <td>4.04</td>\n",
       "      <td>0.00</td>\n",
       "      <td>65.15</td>\n",
       "      <td>100.00</td>\n",
       "      <td>109</td>\n",
       "      <td>1</td>\n",
       "      <td>0</td>\n",
       "    </tr>\n",
       "    <tr>\n",
       "      <th>1</th>\n",
       "      <td>2018-01-01 09:45:00</td>\n",
       "      <td>0.00</td>\n",
       "      <td>19.22</td>\n",
       "      <td>100.00</td>\n",
       "      <td>20.00</td>\n",
       "      <td>104</td>\n",
       "      <td>1</td>\n",
       "      <td>0</td>\n",
       "    </tr>\n",
       "    <tr>\n",
       "      <th>2</th>\n",
       "      <td>2018-01-01 11:15:00</td>\n",
       "      <td>0.00</td>\n",
       "      <td>5.66</td>\n",
       "      <td>100.00</td>\n",
       "      <td>52.55</td>\n",
       "      <td>100</td>\n",
       "      <td>1</td>\n",
       "      <td>0</td>\n",
       "    </tr>\n",
       "    <tr>\n",
       "      <th>3</th>\n",
       "      <td>2018-01-01 18:15:00</td>\n",
       "      <td>0.00</td>\n",
       "      <td>8.96</td>\n",
       "      <td>100.00</td>\n",
       "      <td>40.77</td>\n",
       "      <td>106</td>\n",
       "      <td>1</td>\n",
       "      <td>0</td>\n",
       "    </tr>\n",
       "    <tr>\n",
       "      <th>4</th>\n",
       "      <td>2018-01-01 18:30:00</td>\n",
       "      <td>0.00</td>\n",
       "      <td>5.46</td>\n",
       "      <td>100.00</td>\n",
       "      <td>53.02</td>\n",
       "      <td>104</td>\n",
       "      <td>1</td>\n",
       "      <td>0</td>\n",
       "    </tr>\n",
       "    <tr>\n",
       "      <th>...</th>\n",
       "      <td>...</td>\n",
       "      <td>...</td>\n",
       "      <td>...</td>\n",
       "      <td>...</td>\n",
       "      <td>...</td>\n",
       "      <td>...</td>\n",
       "      <td>...</td>\n",
       "      <td>...</td>\n",
       "    </tr>\n",
       "    <tr>\n",
       "      <th>2185</th>\n",
       "      <td>2018-12-31 12:45:00</td>\n",
       "      <td>0.00</td>\n",
       "      <td>13.22</td>\n",
       "      <td>100.00</td>\n",
       "      <td>24.57</td>\n",
       "      <td>96</td>\n",
       "      <td>1</td>\n",
       "      <td>0</td>\n",
       "    </tr>\n",
       "    <tr>\n",
       "      <th>2186</th>\n",
       "      <td>2018-12-31 13:30:00</td>\n",
       "      <td>0.00</td>\n",
       "      <td>13.50</td>\n",
       "      <td>100.00</td>\n",
       "      <td>23.80</td>\n",
       "      <td>99</td>\n",
       "      <td>1</td>\n",
       "      <td>0</td>\n",
       "    </tr>\n",
       "    <tr>\n",
       "      <th>2187</th>\n",
       "      <td>2018-12-31 18:15:00</td>\n",
       "      <td>0.00</td>\n",
       "      <td>5.88</td>\n",
       "      <td>100.00</td>\n",
       "      <td>49.57</td>\n",
       "      <td>101</td>\n",
       "      <td>1</td>\n",
       "      <td>0</td>\n",
       "    </tr>\n",
       "    <tr>\n",
       "      <th>2188</th>\n",
       "      <td>2018-12-31 20:00:00</td>\n",
       "      <td>0.00</td>\n",
       "      <td>20.08</td>\n",
       "      <td>100.00</td>\n",
       "      <td>20.19</td>\n",
       "      <td>105</td>\n",
       "      <td>1</td>\n",
       "      <td>0</td>\n",
       "    </tr>\n",
       "    <tr>\n",
       "      <th>2189</th>\n",
       "      <td>2018-12-31 23:00:00</td>\n",
       "      <td>4.87</td>\n",
       "      <td>0.00</td>\n",
       "      <td>62.09</td>\n",
       "      <td>100.00</td>\n",
       "      <td>96</td>\n",
       "      <td>1</td>\n",
       "      <td>0</td>\n",
       "    </tr>\n",
       "  </tbody>\n",
       "</table>\n",
       "<p>2190 rows × 8 columns</p>\n",
       "</div>"
      ],
      "text/plain": [
       "                TimeStamp  LaRP   LeRP    LaPF    LePF  \\\n",
       "0     2018-01-01 02:45:00  4.04   0.00   65.15  100.00   \n",
       "1     2018-01-01 09:45:00  0.00  19.22  100.00   20.00   \n",
       "2     2018-01-01 11:15:00  0.00   5.66  100.00   52.55   \n",
       "3     2018-01-01 18:15:00  0.00   8.96  100.00   40.77   \n",
       "4     2018-01-01 18:30:00  0.00   5.46  100.00   53.02   \n",
       "...                   ...   ...    ...     ...     ...   \n",
       "2185  2018-12-31 12:45:00  0.00  13.22  100.00   24.57   \n",
       "2186  2018-12-31 13:30:00  0.00  13.50  100.00   23.80   \n",
       "2187  2018-12-31 18:15:00  0.00   5.88  100.00   49.57   \n",
       "2188  2018-12-31 20:00:00  0.00  20.08  100.00   20.19   \n",
       "2189  2018-12-31 23:00:00  4.87   0.00   62.09  100.00   \n",
       "\n",
       "      Emissions_Air_Quality_Metric  Duty_Low  Duty_Major  \n",
       "0                              109         1           0  \n",
       "1                              104         1           0  \n",
       "2                              100         1           0  \n",
       "3                              106         1           0  \n",
       "4                              104         1           0  \n",
       "...                            ...       ...         ...  \n",
       "2185                            96         1           0  \n",
       "2186                            99         1           0  \n",
       "2187                           101         1           0  \n",
       "2188                           105         1           0  \n",
       "2189                            96         1           0  \n",
       "\n",
       "[2190 rows x 8 columns]"
      ]
     },
     "execution_count": 41,
     "metadata": {},
     "output_type": "execute_result"
    }
   ],
   "source": [
    "test1"
   ]
  },
  {
   "cell_type": "code",
   "execution_count": 57,
   "id": "ff43b963",
   "metadata": {},
   "outputs": [],
   "source": [
    "prediction=rfr.predict(test1[['LaRP', 'LeRP', 'LaPF', 'LePF', 'Duty_Low', 'Emissions_Air_Quality_Metric','Duty_Major']])"
   ]
  },
  {
   "cell_type": "code",
   "execution_count": 58,
   "id": "799ef720",
   "metadata": {},
   "outputs": [
    {
     "data": {
      "text/plain": [
       "array([3.4448, 3.9178, 3.4708, ..., 3.3678, 4.1195, 3.8334])"
      ]
     },
     "execution_count": 58,
     "metadata": {},
     "output_type": "execute_result"
    }
   ],
   "source": [
    "prediction"
   ]
  },
  {
   "cell_type": "code",
   "execution_count": 59,
   "id": "c82bba73",
   "metadata": {},
   "outputs": [],
   "source": [
    "result = pd.DataFrame(prediction, columns=[\"Energy_Consumption\"])"
   ]
  },
  {
   "cell_type": "code",
   "execution_count": 60,
   "id": "fc6b5bb1",
   "metadata": {},
   "outputs": [
    {
     "data": {
      "text/html": [
       "<div>\n",
       "<style scoped>\n",
       "    .dataframe tbody tr th:only-of-type {\n",
       "        vertical-align: middle;\n",
       "    }\n",
       "\n",
       "    .dataframe tbody tr th {\n",
       "        vertical-align: top;\n",
       "    }\n",
       "\n",
       "    .dataframe thead th {\n",
       "        text-align: right;\n",
       "    }\n",
       "</style>\n",
       "<table border=\"1\" class=\"dataframe\">\n",
       "  <thead>\n",
       "    <tr style=\"text-align: right;\">\n",
       "      <th></th>\n",
       "      <th>Energy_Consumption</th>\n",
       "    </tr>\n",
       "  </thead>\n",
       "  <tbody>\n",
       "    <tr>\n",
       "      <th>0</th>\n",
       "      <td>3.4448</td>\n",
       "    </tr>\n",
       "    <tr>\n",
       "      <th>1</th>\n",
       "      <td>3.9178</td>\n",
       "    </tr>\n",
       "    <tr>\n",
       "      <th>2</th>\n",
       "      <td>3.4708</td>\n",
       "    </tr>\n",
       "    <tr>\n",
       "      <th>3</th>\n",
       "      <td>3.9503</td>\n",
       "    </tr>\n",
       "    <tr>\n",
       "      <th>4</th>\n",
       "      <td>3.4170</td>\n",
       "    </tr>\n",
       "    <tr>\n",
       "      <th>...</th>\n",
       "      <td>...</td>\n",
       "    </tr>\n",
       "    <tr>\n",
       "      <th>2185</th>\n",
       "      <td>3.3770</td>\n",
       "    </tr>\n",
       "    <tr>\n",
       "      <th>2186</th>\n",
       "      <td>3.2846</td>\n",
       "    </tr>\n",
       "    <tr>\n",
       "      <th>2187</th>\n",
       "      <td>3.3678</td>\n",
       "    </tr>\n",
       "    <tr>\n",
       "      <th>2188</th>\n",
       "      <td>4.1195</td>\n",
       "    </tr>\n",
       "    <tr>\n",
       "      <th>2189</th>\n",
       "      <td>3.8334</td>\n",
       "    </tr>\n",
       "  </tbody>\n",
       "</table>\n",
       "<p>2190 rows × 1 columns</p>\n",
       "</div>"
      ],
      "text/plain": [
       "      Energy_Consumption\n",
       "0                 3.4448\n",
       "1                 3.9178\n",
       "2                 3.4708\n",
       "3                 3.9503\n",
       "4                 3.4170\n",
       "...                  ...\n",
       "2185              3.3770\n",
       "2186              3.2846\n",
       "2187              3.3678\n",
       "2188              4.1195\n",
       "2189              3.8334\n",
       "\n",
       "[2190 rows x 1 columns]"
      ]
     },
     "execution_count": 60,
     "metadata": {},
     "output_type": "execute_result"
    }
   ],
   "source": [
    "result"
   ]
  },
  {
   "cell_type": "code",
   "execution_count": 61,
   "id": "d5686d9b",
   "metadata": {},
   "outputs": [],
   "source": [
    "result.to_csv(\"C:\\\\Users\\\\Asus\\\\Downloads\\\\industrypower\\\\Dataset\\\\result.csv\", index=False)"
   ]
  },
  {
   "cell_type": "code",
   "execution_count": null,
   "id": "2035c502",
   "metadata": {},
   "outputs": [],
   "source": []
  }
 ],
 "metadata": {
  "kernelspec": {
   "display_name": "Python 3",
   "language": "python",
   "name": "python3"
  },
  "language_info": {
   "codemirror_mode": {
    "name": "ipython",
    "version": 3
   },
   "file_extension": ".py",
   "mimetype": "text/x-python",
   "name": "python",
   "nbconvert_exporter": "python",
   "pygments_lexer": "ipython3",
   "version": "3.8.8"
  }
 },
 "nbformat": 4,
 "nbformat_minor": 5
}
